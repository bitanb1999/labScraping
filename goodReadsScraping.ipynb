{
 "cells": [
  {
   "cell_type": "markdown",
   "metadata": {
    "id": "nWHZlEbr_34A"
   },
   "source": [
    "## Lab 1: Goodreads Parsing and Scraping\n",
    "**Univ.AI** <br>\n",
    "**DS-1 Cohort 1**\n"
   ]
  },
  {
   "cell_type": "markdown",
   "metadata": {
    "id": "0dcNwcwJsJhh"
   },
   "source": [
    "## Table of Contents\n",
    "* [Lab1: Goodreads Scraping and Parsing](#Lab1:-Goodreads-Scraping-and-Parsing)\n",
    "  * [Learning Goals](##Learning-Goals)\n",
    "  * [Q1: Scrape the \"Best Books ever\" web page](##Q1:-Scrape-the-\"Best-Books-ever\"-web-page)\n",
    "  * [Q2: Parse the page, extract book urls](##Q2:-Parse-the-page,-extract-book-urls)\n",
    "  * [Q3: Scrape the web page of each book](##Q3:-Scrape-the-web-page-of-each-book)\n",
    "  * [Q4: Parse each books page, extract information](##Q4:-Parse-each-books-page,-extract-information)\n",
    "    * [4.1 Extract genres](###4.1-Extract-Genres)\n",
    "    * [4.2 Extract Published Year](###4.2-Extract-Published-Year)\n",
    "    * [4.3 Extract Rating, ISBN, Title of the book, Author and Rating Count](###4.3-Extract-Rating,-ISBN,-Title-of-the-book,-Author-and-Rating-Count)\n",
    "    * [4.4 Creating a DataFrame](###4.4-Creating-a-DataFrame)\n"
   ]
  },
  {
   "cell_type": "markdown",
   "metadata": {
    "id": "Z3Tuwno9_367"
   },
   "source": [
    "## Learning Goals \n",
    "Goodreads has put out a list of the \"Best Books ever\", as voted on by around 200,000 people from the general Goodreads community. \n",
    "\n",
    "In this lab, we will be scraping and extracting information from Goodread's \"[Best Books ever](https://www.goodreads.com/list/show/1.Best_Books_Ever?page=1)\" list.\n",
    "\n",
    "This lab consists of four main parts:\n",
    "1. Scraping the \"Best Books ever\" web page\n",
    "2. Parsing the page, extract book urls\n",
    "3. Scraping the web page of each book\n",
    "4. Parsing a book page, extract book properties\n",
    "\n",
    "This lab will develop your skills in:\n",
    "* Exploring web pages through developer tools \n",
    "* Scraping and Parsing using Beautiful Soup and requests"
   ]
  },
  {
   "cell_type": "code",
   "execution_count": 1,
   "metadata": {
    "id": "6PPYEYMj_37E"
   },
   "outputs": [],
   "source": [
    "#Import libraries\n",
    "%matplotlib inline\n",
    "import numpy as np\n",
    "import matplotlib.pyplot as plt\n",
    "import pandas as pd\n",
    "import re\n",
    "import time, requests"
   ]
  },
  {
   "cell_type": "markdown",
   "metadata": {
    "id": "SxSM_hL__37K"
   },
   "source": [
    "## Q1: Scrape the  \"Best Books ever\" web page\n",
    "We're going to see the structure of Goodread's best books list. \n",
    "\n",
    "To get this page we use pythons [requests module](https://requests.readthedocs.io/en/master/). "
   ]
  },
  {
   "cell_type": "code",
   "execution_count": 2,
   "metadata": {
    "id": "yfZ5KA5i_37O"
   },
   "outputs": [],
   "source": [
    "#Getting the url using requests module\n",
    "URLSTART=\"https://www.goodreads.com\"\n",
    "BESTBOOKS=\"/list/show/1.Best_Books_Ever?page=\"\n",
    "url = URLSTART+BESTBOOKS+'1'\n",
    "page = requests.get(url)"
   ]
  },
  {
   "cell_type": "markdown",
   "metadata": {
    "id": "63XN7F7evAK5"
   },
   "source": [
    "Check the status of the page - 200 is OK and 404 is not good!"
   ]
  },
  {
   "cell_type": "code",
   "execution_count": 3,
   "metadata": {
    "colab": {
     "base_uri": "https://localhost:8080/"
    },
    "id": "DayARHGc_37d",
    "outputId": "2063b858-cbd9-4fa8-d7bf-38543650d534"
   },
   "outputs": [
    {
     "data": {
      "text/plain": [
       "200"
      ]
     },
     "execution_count": 3,
     "metadata": {},
     "output_type": "execute_result"
    }
   ],
   "source": [
    "page.status_code"
   ]
  },
  {
   "cell_type": "markdown",
   "metadata": {
    "id": "iLc5msTFvIOt"
   },
   "source": [
    "Now that we are familiar with pythons request module, let us access the first two pages from Goodreads. \n",
    "\n",
    "This will mean you will need to scrape **two** URLs: https://www.goodreads.com/list/show/1.Best_Books_Ever?page=1 and  https://www.goodreads.com/list/show/1.Best_Books_Ever?page=2. \n",
    "\n",
    "<br>\n",
    "\n",
    "**Hint:** To do this, you can put your request.get() function in a `for` loop.<br>\n",
    "You will also need to use the time.sleep() function to wait for 1 second between the two get requests so that Goodread's doesn't think you are a threat attempting to mount a denial-of-service attack!<br>\n",
    "In addition to this, store the HTML text in a dictionary `page_dict`. The key should be the page number (1 or 2) and the value should be the HTML text corresponding the page."
   ]
  },
  {
   "cell_type": "code",
   "execution_count": 4,
   "metadata": {
    "id": "CFAKLa5d_37i"
   },
   "outputs": [],
   "source": [
    "\n",
    "URLSTART=\"https://www.goodreads.com\"\n",
    "BESTBOOKS=\"/list/show/1.Best_Books_Ever?page=\"\n",
    "page_dict={}\n",
    "for i in range(2):\n",
    "    url=URLSTART+BESTBOOKS+str(i+1)\n",
    "    page_dict[i]=requests.get(url).text\n",
    "\n"
   ]
  },
  {
   "cell_type": "markdown",
   "metadata": {
    "id": "ghXGaY1s_37p"
   },
   "source": [
    "## Q2: Parse the page, extract book urls\n",
    "\n",
    "Our next step should be to parse the HTML text we have saved from the previous section and extract the information we need. \n",
    "\n",
    "To do this, we will be using BeautifulSoup to transform HTML content into Python data structures. You can also use other libraries like PyQuery if you are comfortable with jQuery, but we will be using BeautifulSoup.\n"
   ]
  },
  {
   "cell_type": "code",
   "execution_count": 5,
   "metadata": {
    "id": "es2gh_EQ_37w"
   },
   "outputs": [],
   "source": [
    "#Import BeautifulSoup\n",
    "from bs4 import BeautifulSoup"
   ]
  },
  {
   "cell_type": "markdown",
   "metadata": {
    "id": "YOeTQrYtxILB"
   },
   "source": [
    "Our aim is to extract the **book URLs** on the page in order to use it in further sections. \n",
    "\n",
    "To do this, we look for the elements with class bookTitle, extract the urls, and write them into a dictionary `urldict` where the keys are the page numbers and the values are a list of the book URLs extracted from the page.\n",
    "\n",
    "\n",
    "**Hint:** While parsing the HTML, look for the HTML a element, but only the one that has a CSS class of `bookTitle`. If you look at the page source, you'll see a construct like **`class=bookTitle`** on the table as seen below:\n",
    "<br><br>\n",
    "![goodreadsexample](https://drive.google.com/uc?export=view&id=1PUvIe7VkXFSkvrj4pZm0pRKWr6W8Rw0F)\n"
   ]
  },
  {
   "cell_type": "code",
   "execution_count": 6,
   "metadata": {
    "id": "iAjmZFIH_375"
   },
   "outputs": [
    {
     "name": "stdout",
     "output_type": "stream",
     "text": [
      "100\n"
     ]
    }
   ],
   "source": [
    "urldict={}\n",
    "for i in range(2):\n",
    "    soup= BeautifulSoup(page_dict[i], 'html.parser')\n",
    "    dfinder = lambda tag:tag.name==\"a\" and tag.get('class') == ['bookTitle']\n",
    "    table_demographics = soup.find_all(dfinder)\n",
    "    refs=[ref['href'] for ref in table_demographics]\n",
    "    urldict[i]=refs\n",
    "print(len(urldict[0]))\n",
    "\n",
    "\n",
    "\n",
    "    \n"
   ]
  },
  {
   "cell_type": "code",
   "execution_count": 7,
   "metadata": {},
   "outputs": [
    {
     "data": {
      "text/html": [
       "[<a class=\"bookTitle\" href=\"/book/show/153747.Moby_Dick_or_the_Whale\" itemprop=\"url\">\n",
       "<span aria-level=\"4\" itemprop=\"name\" role=\"heading\">Moby-Dick or, the Whale</span>\n",
       "</a>, <a class=\"bookTitle\" href=\"/book/show/6.Harry_Potter_and_the_Goblet_of_Fire\" itemprop=\"url\">\n",
       "<span aria-level=\"4\" itemprop=\"name\" role=\"heading\">Harry Potter and the Goblet of Fire (Harry Potter, #4)</span>\n",
       "</a>, <a class=\"bookTitle\" href=\"/book/show/4989.The_Red_Tent\" itemprop=\"url\">\n",
       "<span aria-level=\"4\" itemprop=\"name\" role=\"heading\">The Red Tent</span>\n",
       "</a>, <a class=\"bookTitle\" href=\"/book/show/37435.The_Secret_Life_of_Bees\" itemprop=\"url\">\n",
       "<span aria-level=\"4\" itemprop=\"name\" role=\"heading\">The Secret Life of Bees</span>\n",
       "</a>, <a class=\"bookTitle\" href=\"/book/show/7171637-clockwork-angel\" itemprop=\"url\">\n",
       "<span aria-level=\"4\" itemprop=\"name\" role=\"heading\">Clockwork Angel (The Infernal Devices, #1)</span>\n",
       "</a>, <a class=\"bookTitle\" href=\"/book/show/1.Harry_Potter_and_the_Half_Blood_Prince\" itemprop=\"url\">\n",
       "<span aria-level=\"4\" itemprop=\"name\" role=\"heading\">Harry Potter and the Half-Blood Prince (Harry Potter, #6)</span>\n",
       "</a>, <a class=\"bookTitle\" href=\"/book/show/16299.And_Then_There_Were_None\" itemprop=\"url\">\n",
       "<span aria-level=\"4\" itemprop=\"name\" role=\"heading\">And Then There Were None</span>\n",
       "</a>, <a class=\"bookTitle\" href=\"/book/show/2187.Middlesex\" itemprop=\"url\">\n",
       "<span aria-level=\"4\" itemprop=\"name\" role=\"heading\">Middlesex</span>\n",
       "</a>, <a class=\"bookTitle\" href=\"/book/show/49552.The_Stranger\" itemprop=\"url\">\n",
       "<span aria-level=\"4\" itemprop=\"name\" role=\"heading\">The Stranger</span>\n",
       "</a>, <a class=\"bookTitle\" href=\"/book/show/117833.The_Master_and_Margarita\" itemprop=\"url\">\n",
       "<span aria-level=\"4\" itemprop=\"name\" role=\"heading\">The Master and Margarita</span>\n",
       "</a>, <a class=\"bookTitle\" href=\"/book/show/11588.The_Shining\" itemprop=\"url\">\n",
       "<span aria-level=\"4\" itemprop=\"name\" role=\"heading\">The Shining</span>\n",
       "</a>, <a class=\"bookTitle\" href=\"/book/show/186074.The_Name_of_the_Wind\" itemprop=\"url\">\n",
       "<span aria-level=\"4\" itemprop=\"name\" role=\"heading\">The Name of the Wind (The Kingkiller Chronicle, #1)</span>\n",
       "</a>, <a class=\"bookTitle\" href=\"/book/show/24583.The_Adventures_of_Tom_Sawyer\" itemprop=\"url\">\n",
       "<span aria-level=\"4\" itemprop=\"name\" role=\"heading\">The Adventures of Tom Sawyer</span>\n",
       "</a>, <a class=\"bookTitle\" href=\"/book/show/113436.Eragon\" itemprop=\"url\">\n",
       "<span aria-level=\"4\" itemprop=\"name\" role=\"heading\">Eragon (The Inheritance Cycle, #1)</span>\n",
       "</a>, <a class=\"bookTitle\" href=\"/book/show/6310.Charlie_and_the_Chocolate_Factory\" itemprop=\"url\">\n",
       "<span aria-level=\"4\" itemprop=\"name\" role=\"heading\">Charlie and the Chocolate Factory (Charlie Bucket, #1)</span>\n",
       "</a>, <a class=\"bookTitle\" href=\"/book/show/36576608-flowers-for-algernon\" itemprop=\"url\">\n",
       "<span aria-level=\"4\" itemprop=\"name\" role=\"heading\">Flowers for Algernon</span>\n",
       "</a>, <a class=\"bookTitle\" href=\"/book/show/485894.The_Metamorphosis\" itemprop=\"url\">\n",
       "<span aria-level=\"4\" itemprop=\"name\" role=\"heading\">The Metamorphosis</span>\n",
       "</a>, <a class=\"bookTitle\" href=\"/book/show/70401.On_the_Road\" itemprop=\"url\">\n",
       "<span aria-level=\"4\" itemprop=\"name\" role=\"heading\">On the Road</span>\n",
       "</a>, <a class=\"bookTitle\" href=\"/book/show/99561.Looking_for_Alaska\" itemprop=\"url\">\n",
       "<span aria-level=\"4\" itemprop=\"name\" role=\"heading\">Looking for Alaska</span>\n",
       "</a>, <a class=\"bookTitle\" href=\"/book/show/1618.The_Curious_Incident_of_the_Dog_in_the_Night_Time\" itemprop=\"url\">\n",
       "<span aria-level=\"4\" itemprop=\"name\" role=\"heading\">The Curious Incident of the Dog in the Night-Time</span>\n",
       "</a>, <a class=\"bookTitle\" href=\"/book/show/1232.The_Shadow_of_the_Wind\" itemprop=\"url\">\n",
       "<span aria-level=\"4\" itemprop=\"name\" role=\"heading\">The Shadow of the Wind (The Cemetery of Forgotten Books, #1)</span>\n",
       "</a>, <a class=\"bookTitle\" href=\"/book/show/4948.The_Very_Hungry_Caterpillar\" itemprop=\"url\">\n",
       "<span aria-level=\"4\" itemprop=\"name\" role=\"heading\">The Very Hungry Caterpillar</span>\n",
       "</a>, <a class=\"bookTitle\" href=\"/book/show/6900.Tuesdays_with_Morrie\" itemprop=\"url\">\n",
       "<span aria-level=\"4\" itemprop=\"name\" role=\"heading\">Tuesdays with Morrie</span>\n",
       "</a>, <a class=\"bookTitle\" href=\"/book/show/9717.The_Unbearable_Lightness_of_Being\" itemprop=\"url\">\n",
       "<span aria-level=\"4\" itemprop=\"name\" role=\"heading\">The Unbearable Lightness of Being</span>\n",
       "</a>, <a class=\"bookTitle\" href=\"/book/show/15881.Harry_Potter_and_the_Chamber_of_Secrets\" itemprop=\"url\">\n",
       "<span aria-level=\"4\" itemprop=\"name\" role=\"heading\">Harry Potter and the Chamber of Secrets (Harry Potter, #2)</span>\n",
       "</a>, <a class=\"bookTitle\" href=\"/book/show/119073.The_Name_of_the_Rose\" itemprop=\"url\">\n",
       "<span aria-level=\"4\" itemprop=\"name\" role=\"heading\">The Name of the Rose</span>\n",
       "</a>, <a class=\"bookTitle\" href=\"/book/show/10365.Where_the_Red_Fern_Grows\" itemprop=\"url\">\n",
       "<span aria-level=\"4\" itemprop=\"name\" role=\"heading\">Where the Red Fern Grows</span>\n",
       "</a>, <a class=\"bookTitle\" href=\"/book/show/22034.The_Godfather\" itemprop=\"url\">\n",
       "<span aria-level=\"4\" itemprop=\"name\" role=\"heading\">The Godfather</span>\n",
       "</a>, <a class=\"bookTitle\" href=\"/book/show/12296.The_Scarlet_Letter\" itemprop=\"url\">\n",
       "<span aria-level=\"4\" itemprop=\"name\" role=\"heading\">The Scarlet Letter</span>\n",
       "</a>, <a class=\"bookTitle\" href=\"/book/show/168642.In_Cold_Blood\" itemprop=\"url\">\n",
       "<span aria-level=\"4\" itemprop=\"name\" role=\"heading\">In Cold Blood</span>\n",
       "</a>, <a class=\"bookTitle\" href=\"/book/show/3431.The_Five_People_You_Meet_in_Heaven\" itemprop=\"url\">\n",
       "<span aria-level=\"4\" itemprop=\"name\" role=\"heading\">The Five People You Meet in Heaven</span>\n",
       "</a>, <a class=\"bookTitle\" href=\"/book/show/6339664-hush-hush\" itemprop=\"url\">\n",
       "<span aria-level=\"4\" itemprop=\"name\" role=\"heading\">Hush, Hush (Hush, Hush, #1)</span>\n",
       "</a>, <a class=\"bookTitle\" href=\"/book/show/36236124-fight-club\" itemprop=\"url\">\n",
       "<span aria-level=\"4\" itemprop=\"name\" role=\"heading\">Fight Club</span>\n",
       "</a>, <a class=\"bookTitle\" href=\"/book/show/7126.The_Count_of_Monte_Cristo\" itemprop=\"url\">\n",
       "<span aria-level=\"4\" itemprop=\"name\" role=\"heading\">The Count of Monte Cristo</span>\n",
       "</a>, <a class=\"bookTitle\" href=\"/book/show/233093.The_Cat_in_the_Hat\" itemprop=\"url\">\n",
       "<span aria-level=\"4\" itemprop=\"name\" role=\"heading\">The Cat in the Hat (The Cat in the Hat, #1)</span>\n",
       "</a>, <a class=\"bookTitle\" href=\"/book/show/100915.The_Lion_the_Witch_and_the_Wardrobe\" itemprop=\"url\">\n",
       "<span aria-level=\"4\" itemprop=\"name\" role=\"heading\">The Lion, the Witch and the Wardrobe (Chronicles of Narnia, #1)</span>\n",
       "</a>, <a class=\"bookTitle\" href=\"/book/show/30165203-american-gods\" itemprop=\"url\">\n",
       "<span aria-level=\"4\" itemprop=\"name\" role=\"heading\">American Gods (American Gods, #1)</span>\n",
       "</a>, <a class=\"bookTitle\" href=\"/book/show/343.Perfume\" itemprop=\"url\">\n",
       "<span aria-level=\"4\" itemprop=\"name\" role=\"heading\">Perfume: The Story of a Murderer</span>\n",
       "</a>, <a class=\"bookTitle\" href=\"/book/show/38709.Holes\" itemprop=\"url\">\n",
       "<span aria-level=\"4\" itemprop=\"name\" role=\"heading\">Holes (Holes, #1)</span>\n",
       "</a>, <a class=\"bookTitle\" href=\"/book/show/256008.Lonesome_Dove\" itemprop=\"url\">\n",
       "<span aria-level=\"4\" itemprop=\"name\" role=\"heading\">Lonesome Dove (Lonesome Dove #1)</span>\n",
       "</a>, <a class=\"bookTitle\" href=\"/book/show/4556058-the-last-olympian\" itemprop=\"url\">\n",
       "<span aria-level=\"4\" itemprop=\"name\" role=\"heading\">The Last Olympian (Percy Jackson and the Olympians, #5)</span>\n",
       "</a>, <a class=\"bookTitle\" href=\"/book/show/830502.It\" itemprop=\"url\">\n",
       "<span aria-level=\"4\" itemprop=\"name\" role=\"heading\">It</span>\n",
       "</a>, <a class=\"bookTitle\" href=\"/book/show/472331.Watchmen\" itemprop=\"url\">\n",
       "<span aria-level=\"4\" itemprop=\"name\" role=\"heading\">Watchmen</span>\n",
       "</a>, <a class=\"bookTitle\" href=\"/book/show/114345.The_Little_House_Collection\" itemprop=\"url\">\n",
       "<span aria-level=\"4\" itemprop=\"name\" role=\"heading\">The Little House Collection (Little House, #1-9)</span>\n",
       "</a>, <a class=\"bookTitle\" href=\"/book/show/6656.The_Divine_Comedy\" itemprop=\"url\">\n",
       "<span aria-level=\"4\" itemprop=\"name\" role=\"heading\">The Divine Comedy</span>\n",
       "</a>, <a class=\"bookTitle\" href=\"/book/show/34268.Peter_Pan\" itemprop=\"url\">\n",
       "<span aria-level=\"4\" itemprop=\"name\" role=\"heading\">Peter Pan</span>\n",
       "</a>, <a class=\"bookTitle\" href=\"/book/show/355697.All_Quiet_on_the_Western_Front\" itemprop=\"url\">\n",
       "<span aria-level=\"4\" itemprop=\"name\" role=\"heading\">All Quiet on the Western Front</span>\n",
       "</a>, <a class=\"bookTitle\" href=\"/book/show/5907.The_Hobbit_or_There_and_Back_Again\" itemprop=\"url\">\n",
       "<span aria-level=\"4\" itemprop=\"name\" role=\"heading\">The Hobbit, or There and Back Again</span>\n",
       "</a>, <a class=\"bookTitle\" href=\"/book/show/1423.The_Compleat_Works_of_Wllm_Shkspr\" itemprop=\"url\">\n",
       "<span aria-level=\"4\" itemprop=\"name\" role=\"heading\">The Compleat Works of Wllm Shkspr</span>\n",
       "</a>, <a class=\"bookTitle\" href=\"/book/show/9712.Love_in_the_Time_of_Cholera\" itemprop=\"url\">\n",
       "<span aria-level=\"4\" itemprop=\"name\" role=\"heading\">Love in the Time of Cholera</span>\n",
       "</a>, <a class=\"bookTitle\" href=\"/book/show/11735983-insurgent\" itemprop=\"url\">\n",
       "<span aria-level=\"4\" itemprop=\"name\" role=\"heading\">Insurgent (Divergent, #2)</span>\n",
       "</a>, <a class=\"bookTitle\" href=\"/book/show/2802316-shadow-kiss\" itemprop=\"url\">\n",
       "<span aria-level=\"4\" itemprop=\"name\" role=\"heading\">Shadow Kiss (Vampire Academy, #3)</span>\n",
       "</a>, <a class=\"bookTitle\" href=\"/book/show/3412.The_Thorn_Birds\" itemprop=\"url\">\n",
       "<span aria-level=\"4\" itemprop=\"name\" role=\"heading\">The Thorn Birds</span>\n",
       "</a>, <a class=\"bookTitle\" href=\"/book/show/35545737-a-walk-to-remember\" itemprop=\"url\">\n",
       "<span aria-level=\"4\" itemprop=\"name\" role=\"heading\">A Walk to Remember</span>\n",
       "</a>, <a class=\"bookTitle\" href=\"/book/show/113946.How_the_Grinch_Stole_Christmas_\" itemprop=\"url\">\n",
       "<span aria-level=\"4\" itemprop=\"name\" role=\"heading\">How the Grinch Stole Christmas!</span>\n",
       "</a>, <a class=\"bookTitle\" href=\"/book/show/13.The_Ultimate_Hitchhiker_s_Guide_to_the_Galaxy\" itemprop=\"url\">\n",
       "<span aria-level=\"4\" itemprop=\"name\" role=\"heading\">The Ultimate Hitchhiker's Guide to the Galaxy (Hitchhiker's Guide to the Galaxy, #1-5)</span>\n",
       "</a>, <a class=\"bookTitle\" href=\"/book/show/19501.Eat_Pray_Love\" itemprop=\"url\">\n",
       "<span aria-level=\"4\" itemprop=\"name\" role=\"heading\">Eat, Pray, Love</span>\n",
       "</a>, <a class=\"bookTitle\" href=\"/book/show/92303.The_Importance_of_Being_Earnest\" itemprop=\"url\">\n",
       "<span aria-level=\"4\" itemprop=\"name\" role=\"heading\">The Importance of Being Earnest</span>\n",
       "</a>, <a class=\"bookTitle\" href=\"/book/show/6867.Atonement\" itemprop=\"url\">\n",
       "<span aria-level=\"4\" itemprop=\"name\" role=\"heading\">Atonement</span>\n",
       "</a>, <a class=\"bookTitle\" href=\"/book/show/37415.Their_Eyes_Were_Watching_God\" itemprop=\"url\">\n",
       "<span aria-level=\"4\" itemprop=\"name\" role=\"heading\">Their Eyes Were Watching God</span>\n",
       "</a>, <a class=\"bookTitle\" href=\"/book/show/7190.The_Three_Musketeers\" itemprop=\"url\">\n",
       "<span aria-level=\"4\" itemprop=\"name\" role=\"heading\">The Three Musketeers (The D'Artagnan Romances, #1)</span>\n",
       "</a>, <a class=\"bookTitle\" href=\"/book/show/236093.The_Wonderful_Wizard_of_Oz\" itemprop=\"url\">\n",
       "<span aria-level=\"4\" itemprop=\"name\" role=\"heading\">The Wonderful Wizard of Oz (Oz, #1)</span>\n",
       "</a>, <a class=\"bookTitle\" href=\"/book/show/12067.Good_Omens\" itemprop=\"url\">\n",
       "<span aria-level=\"4\" itemprop=\"name\" role=\"heading\">Good Omens: The Nice and Accurate Prophecies of Agnes Nutter, Witch</span>\n",
       "</a>, <a class=\"bookTitle\" href=\"/book/show/2282133.Frostbite\" itemprop=\"url\">\n",
       "<span aria-level=\"4\" itemprop=\"name\" role=\"heading\">Frostbite (Vampire Academy, #2)</span>\n",
       "</a>, <a class=\"bookTitle\" href=\"/book/show/32929.Goodnight_Moon\" itemprop=\"url\">\n",
       "<span aria-level=\"4\" itemprop=\"name\" role=\"heading\">Goodnight Moon</span>\n",
       "</a>, <a class=\"bookTitle\" href=\"/book/show/7784.The_Lorax\" itemprop=\"url\">\n",
       "<span aria-level=\"4\" itemprop=\"name\" role=\"heading\">The Lorax</span>\n",
       "</a>, <a class=\"bookTitle\" href=\"/book/show/34.The_Fellowship_of_the_Ring\" itemprop=\"url\">\n",
       "<span aria-level=\"4\" itemprop=\"name\" role=\"heading\">The Fellowship of the Ring (The Lord of the Rings, #1)</span>\n",
       "</a>, <a class=\"bookTitle\" href=\"/book/show/5996153-blood-promise\" itemprop=\"url\">\n",
       "<span aria-level=\"4\" itemprop=\"name\" role=\"heading\">Blood Promise (Vampire Academy, #4)</span>\n",
       "</a>, <a class=\"bookTitle\" href=\"/book/show/2120932.The_Battle_of_the_Labyrinth\" itemprop=\"url\">\n",
       "<span aria-level=\"4\" itemprop=\"name\" role=\"heading\">The Battle of the Labyrinth (Percy Jackson and the Olympians, #4)</span>\n",
       "</a>, <a class=\"bookTitle\" href=\"/book/show/18335634-clockwork-princess\" itemprop=\"url\">\n",
       "<span aria-level=\"4\" itemprop=\"name\" role=\"heading\">Clockwork Princess (The Infernal Devices, #3)</span>\n",
       "</a>, <a class=\"bookTitle\" href=\"/book/show/32261.Tess_of_the_D_Urbervilles\" itemprop=\"url\">\n",
       "<span aria-level=\"4\" itemprop=\"name\" role=\"heading\">Tess of the D'Urbervilles</span>\n",
       "</a>, <a class=\"bookTitle\" href=\"/book/show/4900.Heart_of_Darkness\" itemprop=\"url\">\n",
       "<span aria-level=\"4\" itemprop=\"name\" role=\"heading\">Heart of Darkness</span>\n",
       "</a>, <a class=\"bookTitle\" href=\"/book/show/1078.The_Good_Earth\" itemprop=\"url\">\n",
       "<span aria-level=\"4\" itemprop=\"name\" role=\"heading\">The Good Earth (House of Earth, #1)</span>\n",
       "</a>, <a class=\"bookTitle\" href=\"/book/show/1622.A_Midsummer_Night_s_Dream\" itemprop=\"url\">\n",
       "<span aria-level=\"4\" itemprop=\"name\" role=\"heading\">A Midsummer Night's Dream</span>\n",
       "</a>, <a class=\"bookTitle\" href=\"/book/show/2547.The_Prophet\" itemprop=\"url\">\n",
       "<span aria-level=\"4\" itemprop=\"name\" role=\"heading\">The Prophet</span>\n",
       "</a>, <a class=\"bookTitle\" href=\"/book/show/561456.The_Titan_s_Curse\" itemprop=\"url\">\n",
       "<span aria-level=\"4\" itemprop=\"name\" role=\"heading\">The Titan's Curse (Percy Jackson and the Olympians, #3)</span>\n",
       "</a>, <a class=\"bookTitle\" href=\"/book/show/28186.The_Sea_of_Monsters\" itemprop=\"url\">\n",
       "<span aria-level=\"4\" itemprop=\"name\" role=\"heading\">The Sea of Monsters (Percy Jackson and the Olympians, #2)</span>\n",
       "</a>, <a class=\"bookTitle\" href=\"/book/show/40605251-the-mists-of-avalon\" itemprop=\"url\">\n",
       "<span aria-level=\"4\" itemprop=\"name\" role=\"heading\">The Mists of Avalon (Avalon, #1)</span>\n",
       "</a>, <a class=\"bookTitle\" href=\"/book/show/7763.The_Joy_Luck_Club\" itemprop=\"url\">\n",
       "<span aria-level=\"4\" itemprop=\"name\" role=\"heading\">The Joy Luck Club</span>\n",
       "</a>, <a class=\"bookTitle\" href=\"/book/show/13023.Alice_in_Wonderland\" itemprop=\"url\">\n",
       "<span aria-level=\"4\" itemprop=\"name\" role=\"heading\">Alice in Wonderland</span>\n",
       "</a>, <a class=\"bookTitle\" href=\"/book/show/1852.The_Call_of_the_Wild\" itemprop=\"url\">\n",
       "<span aria-level=\"4\" itemprop=\"name\" role=\"heading\">The Call of the Wild</span>\n",
       "</a>, <a class=\"bookTitle\" href=\"/book/show/71728.Jonathan_Livingston_Seagull\" itemprop=\"url\">\n",
       "<span aria-level=\"4\" itemprop=\"name\" role=\"heading\">Jonathan Livingston Seagull</span>\n",
       "</a>, <a class=\"bookTitle\" href=\"/book/show/2175.Madame_Bovary\" itemprop=\"url\">\n",
       "<span aria-level=\"4\" itemprop=\"name\" role=\"heading\">Madame Bovary</span>\n",
       "</a>, <a class=\"bookTitle\" href=\"/book/show/7938275-the-hunger-games-trilogy-boxset\" itemprop=\"url\">\n",
       "<span aria-level=\"4\" itemprop=\"name\" role=\"heading\">The Hunger Games Trilogy Boxset (The Hunger Games, #1-3)</span>\n",
       "</a>, <a class=\"bookTitle\" href=\"/book/show/40940121-bridge-to-terabithia\" itemprop=\"url\">\n",
       "<span aria-level=\"4\" itemprop=\"name\" role=\"heading\">Bridge to Terabithia</span>\n",
       "</a>, <a class=\"bookTitle\" href=\"/book/show/378.The_Phantom_Tollbooth\" itemprop=\"url\">\n",
       "<span aria-level=\"4\" itemprop=\"name\" role=\"heading\">The Phantom Tollbooth</span>\n",
       "</a>, <a class=\"bookTitle\" href=\"/book/show/6186357-the-maze-runner\" itemprop=\"url\">\n",
       "<span aria-level=\"4\" itemprop=\"name\" role=\"heading\">The Maze Runner (The Maze Runner, #1)</span>\n",
       "</a>, <a class=\"bookTitle\" href=\"/book/show/191139.Oh_the_Places_You_ll_Go_\" itemprop=\"url\">\n",
       "<span aria-level=\"4\" itemprop=\"name\" role=\"heading\">Oh, the Places You'll Go!</span>\n",
       "</a>, <a class=\"bookTitle\" href=\"/book/show/5060378-the-girl-who-played-with-fire\" itemprop=\"url\">\n",
       "<span aria-level=\"4\" itemprop=\"name\" role=\"heading\">The Girl Who Played with Fire (Millennium, #2)</span>\n",
       "</a>, <a class=\"bookTitle\" href=\"/book/show/18254.Oliver_Twist\" itemprop=\"url\">\n",
       "<span aria-level=\"4\" itemprop=\"name\" role=\"heading\">Oliver Twist</span>\n",
       "</a>, <a class=\"bookTitle\" href=\"/book/show/27712.The_Neverending_Story\" itemprop=\"url\">\n",
       "<span aria-level=\"4\" itemprop=\"name\" role=\"heading\">The Neverending Story</span>\n",
       "</a>, <a class=\"bookTitle\" href=\"/book/show/295.Treasure_Island\" itemprop=\"url\">\n",
       "<span aria-level=\"4\" itemprop=\"name\" role=\"heading\">Treasure Island</span>\n",
       "</a>, <a class=\"bookTitle\" href=\"/book/show/338798.Ulysses\" itemprop=\"url\">\n",
       "<span aria-level=\"4\" itemprop=\"name\" role=\"heading\">Ulysses</span>\n",
       "</a>, <a class=\"bookTitle\" href=\"/book/show/10818853-fifty-shades-of-grey\" itemprop=\"url\">\n",
       "<span aria-level=\"4\" itemprop=\"name\" role=\"heading\">Fifty Shades of Grey (Fifty Shades, #1)</span>\n",
       "</a>, <a class=\"bookTitle\" href=\"/book/show/40611463-the-clan-of-the-cave-bear\" itemprop=\"url\">\n",
       "<span aria-level=\"4\" itemprop=\"name\" role=\"heading\">The Clan of the Cave Bear</span>\n",
       "</a>, <a class=\"bookTitle\" href=\"/book/show/62291.A_Storm_of_Swords\" itemprop=\"url\">\n",
       "<span aria-level=\"4\" itemprop=\"name\" role=\"heading\">A Storm of Swords (A Song of Ice and Fire, #3)</span>\n",
       "</a>, <a class=\"bookTitle\" href=\"/book/show/2696.The_Canterbury_Tales\" itemprop=\"url\">\n",
       "<span aria-level=\"4\" itemprop=\"name\" role=\"heading\">The Canterbury Tales</span>\n",
       "</a>, <a class=\"bookTitle\" href=\"/book/show/7069.The_World_According_to_Garp\" itemprop=\"url\">\n",
       "<span aria-level=\"4\" itemprop=\"name\" role=\"heading\">The World According to Garp</span>\n",
       "</a>, <a class=\"bookTitle\" href=\"/book/show/10799.A_Farewell_to_Arms\" itemprop=\"url\">\n",
       "<span aria-level=\"4\" itemprop=\"name\" role=\"heading\">A Farewell to Arms</span>\n",
       "</a>, <a class=\"bookTitle\" href=\"/book/show/58696.David_Copperfield\" itemprop=\"url\">\n",
       "<span aria-level=\"4\" itemprop=\"name\" role=\"heading\">David Copperfield</span>\n",
       "</a>]"
      ],
      "text/plain": [
       "<IPython.core.display.HTML object>"
      ]
     },
     "execution_count": 7,
     "metadata": {},
     "output_type": "execute_result"
    }
   ],
   "source": [
    "from IPython.display import HTML\n",
    "HTML(str(table_demographics))"
   ]
  },
  {
   "cell_type": "markdown",
   "metadata": {
    "id": "S5c9Ip_A_379"
   },
   "source": [
    "## Q3: Scrape the web page of each book"
   ]
  },
  {
   "cell_type": "markdown",
   "metadata": {
    "id": "5GB1tiwv4qdH"
   },
   "source": [
    "Now that we have the book URLs in a dictionary `urldict`, we can parse the web pages of the books itself to extract some information. <br>\n",
    "\n",
    "Before we extract information, we will need to get the HTML text for each book's page. \n",
    "Scrape the books web pages and store the HTML text for each book in a dictionary named `bookdict` using a `for` loop in a similar fashion as before."
   ]
  },
  {
   "cell_type": "code",
   "execution_count": 8,
   "metadata": {
    "colab": {
     "base_uri": "https://localhost:8080/"
    },
    "id": "3Hfb0MK3_37_",
    "outputId": "49116482-db77-4f2a-dde6-5fdd2a49ae1c"
   },
   "outputs": [
    {
     "name": "stdout",
     "output_type": "stream",
     "text": [
      "200\n"
     ]
    }
   ],
   "source": [
    "#This is just an **example** to understand how to scarpe these files\n",
    "#Scraping one of the files\n",
    "URLSTART=\"https://www.goodreads.com\"\n",
    "book_url=URLSTART+urldict[1][0]\n",
    "stuff=requests.get(book_url)\n",
    "\n",
    "#Check the status of the page\n",
    "print(stuff.status_code)\n",
    "\n",
    "#All OK!"
   ]
  },
  {
   "cell_type": "code",
   "execution_count": 9,
   "metadata": {
    "id": "hjUWYtrkBV9N"
   },
   "outputs": [],
   "source": [
    "#Fetching the actual 200 book pages\n",
    "#In the interest of time, we are taking just the first 10 of each page. Running this for 200 books takes 25 min!\n",
    "bookdict={}\n",
    "URLSTART=\"https://www.goodreads.com\"\n",
    "for i in range(10):\n",
    "    book_url=URLSTART+urldict[0][i]\n",
    "    stuff=requests.get(book_url).text\n",
    "    bookdict[i]=stuff\n",
    "\n"
   ]
  },
  {
   "cell_type": "markdown",
   "metadata": {
    "id": "IeDDwZn6-FSn"
   },
   "source": [
    "##Q4: Parse each books page, extract information\n",
    "\n",
    "Now that we have the HTML text for the books, we can extract information from these web pages. \n",
    "We intend to extract the following data:\n",
    "\n",
    "- Published year\n",
    "- Rating\n",
    "- ISBN \n",
    "- Title of the book\n",
    "- Author\n",
    "- Genres this book fits in. Since there are several genres associated with each book, you will need to extract the URL of each genre, separated by a pipe '|' like so:\n",
    "```\n",
    "/genres/young-adult|/genres/fiction|/genres/science-fiction|/genres/dystopia|/genres/fantasy|/genres/science-fiction|/genres/romance|/genres/adventure|\n",
    "```\n",
    "- Rating count, the number of people who have rated this book\n",
    "<br>\n",
    "<br> \n",
    "All this information can be seen on the web page.\n",
    "You will need to go to the developer tools and extract the necessary information. \n",
    "<br>\n",
    "<br>\n",
    "\n",
    "Since Published year and Genre require some extra processing to be extracted, we will start by writing 2 functions - `get_genre` and `get_year`."
   ]
  },
  {
   "cell_type": "markdown",
   "metadata": {
    "id": "wXJxwcREJGqQ"
   },
   "source": [
    "### 4.1 Extract Genres\n",
    "\n",
    "Write a function to get the genres which takes as input the HTML text and outputs a list of the genre URLs."
   ]
  },
  {
   "cell_type": "code",
   "execution_count": 10,
   "metadata": {
    "id": "c2YIBd9H_38o"
   },
   "outputs": [
    {
     "name": "stdout",
     "output_type": "stream",
     "text": [
      "['/genres/fantasy|', '/genres/young-adult|', '/genres/fiction|', '/genres/fantasy|', '/genres/magic|', '/genres/childrens|', '/genres/adventure|', '/genres/audiobook|', '/genres/childrens|', '/genres/middle-grade|', '/genres/classics|', '/genres/science-fiction-fantasy|']\n"
     ]
    }
   ],
   "source": [
    "#Extracting genre\n",
    "def get_genre(d):\n",
    "    genre=[]\n",
    "    gen= BeautifulSoup(d, 'html.parser').find_all(\"a\", class_=\"actionLinkLite bookPageGenreLink\")\n",
    "    genre=[ref['href']+'|' for ref in gen]\n",
    "    return genre\n",
    "print(get_genre(bookdict[1]))"
   ]
  },
  {
   "cell_type": "code",
   "execution_count": 11,
   "metadata": {},
   "outputs": [
    {
     "data": {
      "text/plain": [
       "[<a class=\"actionLinkLite bookPageGenreLink\" href=\"/genres/fantasy\">Fantasy</a>,\n",
       " <a class=\"actionLinkLite bookPageGenreLink\" href=\"/genres/young-adult\">Young Adult</a>,\n",
       " <a class=\"actionLinkLite bookPageGenreLink\" href=\"/genres/fiction\">Fiction</a>,\n",
       " <a class=\"actionLinkLite bookPageGenreLink\" href=\"/genres/fantasy\">Fantasy</a>,\n",
       " <a class=\"actionLinkLite bookPageGenreLink\" href=\"/genres/magic\">Magic</a>,\n",
       " <a class=\"actionLinkLite bookPageGenreLink\" href=\"/genres/childrens\">Childrens</a>,\n",
       " <a class=\"actionLinkLite bookPageGenreLink\" href=\"/genres/adventure\">Adventure</a>,\n",
       " <a class=\"actionLinkLite bookPageGenreLink\" href=\"/genres/audiobook\">Audiobook</a>,\n",
       " <a class=\"actionLinkLite bookPageGenreLink\" href=\"/genres/childrens\">Childrens</a>,\n",
       " <a class=\"actionLinkLite bookPageGenreLink\" href=\"/genres/middle-grade\">Middle Grade</a>,\n",
       " <a class=\"actionLinkLite bookPageGenreLink\" href=\"/genres/classics\">Classics</a>,\n",
       " <a class=\"actionLinkLite bookPageGenreLink\" href=\"/genres/science-fiction-fantasy\">Science Fiction Fantasy</a>]"
      ]
     },
     "execution_count": 11,
     "metadata": {},
     "output_type": "execute_result"
    }
   ],
   "source": [
    "BeautifulSoup(bookdict[1], 'html.parser').find_all(\"a\", class_=\"actionLinkLite bookPageGenreLink\")"
   ]
  },
  {
   "cell_type": "markdown",
   "metadata": {
    "id": "g9WDGFGbJKzp"
   },
   "source": [
    "### 4.2 Extract Published Year"
   ]
  },
  {
   "cell_type": "markdown",
   "metadata": {
    "id": "zP9BpEv5M2nk"
   },
   "source": [
    "Write a function to get the published year which takes as input the HTML text.\n",
    "\n",
    "You might have to use regular expressions to extract only the year Published Date seen in the web pages."
   ]
  },
  {
   "cell_type": "markdown",
   "metadata": {
    "id": "nM0Smiwf_38h"
   },
   "source": [
    "**Regular expressions** <br>\n",
    "Regular Expressions is a pattern matching mechanism used throughout Computer Science and programming (it's not just specific to Python). A tutorial on Regular Expressions (aka regex) is beond this lab, but below are many great resources that we recommend, if you are interested in them (could be very useful for a homework problem):<br>\n",
    "https://docs.python.org/3.3/library/re.html <br>\n",
    "https://regexone.com <br>\n",
    "https://docs.python.org/3/howto/regex.html <br>\n"
   ]
  },
  {
   "cell_type": "code",
   "execution_count": 32,
   "metadata": {
    "id": "U1rmGa9B_38j"
   },
   "outputs": [],
   "source": [
    "#Extracting published year\n",
    "yearre = r'\\d{4}'\n",
    "def get_year(d):\n",
    "\n",
    "  d = BeautifulSoup(d,'html.parser')\n",
    "\n",
    "  years=d.find(\"div\", attrs={\"class\": \"uitext darkGreyText\"})\n",
    "  years=years.findChildren(\"div\")[1].text\n",
    "  yearmatch=re.findall(yearre,years)\n",
    "  years_original=d.find_all(\"nobr\", attrs={\"class\": \"greyText\"})\n",
    "  if years_original!=[]:\n",
    "    finalyear=yearmatch[1]\n",
    "    return finalyear\n",
    "  else:\n",
    "      if len(yearmatch) > 0:\n",
    "          finalyear=yearmatch[0]\n",
    "      else:\n",
    "          finalyear=\"NA\"\n",
    "      return finalyear"
   ]
  },
  {
   "cell_type": "markdown",
   "metadata": {
    "id": "y-y8tarRJUJW"
   },
   "source": [
    "### 4.3 Extract Rating, ISBN, Title of the book, Author and Rating Count"
   ]
  },
  {
   "cell_type": "markdown",
   "metadata": {
    "id": "Aemp8j2gJfNf"
   },
   "source": [
    "Now that you have created functions to extract genres and published years, you can extract the rest of the fields in a line or two.\n",
    "\n",
    "Extract the other fields and incorporate your functions to get a **list of dictionaries**. Each element in the list is a dictionary with the information you have extracted (Published year, Rating, ISBN, Title of the book, Author, Genres, Rating Count).\n",
    "<br>\n",
    "<br>\n",
    "So **each element in the list** should look something like this:\n",
    "```\n",
    "{'author': 'https://www.goodreads.com/author/show/153394.Suzanne_Collins',\n",
    " 'booktype': 'books.book',\n",
    " 'rating': 4.33,\n",
    " 'genres': '/genres/young-adult|/genres/fiction|/genres/science-fiction|/genres/dystopia|/genres/fantasy|/genres/science-fiction|/genres/romance|/genres/adventure|/genres/young-adult|/genres/teen|/genres/apocalyptic|/genres/post-apocalyptic|/genres/action',\n",
    " 'isbn': '9780439023481',\n",
    " 'ratingCount': '6554254',\n",
    " 'title': 'The Hunger Games (The Hunger Games, #1)',\n",
    " 'year': '2008'}\n",
    "```\n",
    "\n",
    "**Note**: Remember to convert your list of genres to a string seperated with the pipe character '|'.\n"
   ]
  },
  {
   "cell_type": "code",
   "execution_count": 14,
   "metadata": {},
   "outputs": [
    {
     "data": {
      "text/plain": [
       "['https://www.goodreads.com/author/show/1077326.J_K_Rowling',\n",
       " 'https://www.goodreads.com/author/show/2927.Mary_GrandPr_']"
      ]
     },
     "execution_count": 14,
     "metadata": {},
     "output_type": "execute_result"
    }
   ],
   "source": [
    "def get_author(d):\n",
    "    genre=[]\n",
    "    gen= BeautifulSoup(d, 'html.parser').find_all(\"a\", class_=\"authorName\")\n",
    "    genre=[ref['href'] for ref in gen]\n",
    "    return genre\n",
    "get_author(bookdict[1])"
   ]
  },
  {
   "cell_type": "code",
   "execution_count": 15,
   "metadata": {},
   "outputs": [
    {
     "data": {
      "text/plain": [
       "['  4.50']"
      ]
     },
     "execution_count": 15,
     "metadata": {},
     "output_type": "execute_result"
    }
   ],
   "source": [
    "def get_rating(d):\n",
    "    genre=[]\n",
    "    gen= BeautifulSoup(d, 'html.parser').find_all(\"span\", itemprop=\"ratingValue\")\n",
    "    genre=[ref.text.replace(\"\\n\",\"\") for ref in gen]\n",
    "    return genre\n",
    "get_rating(bookdict[1])"
   ]
  },
  {
   "cell_type": "code",
   "execution_count": 18,
   "metadata": {},
   "outputs": [
    {
     "data": {
      "text/plain": [
       "['9780439358071']"
      ]
     },
     "execution_count": 18,
     "metadata": {},
     "output_type": "execute_result"
    }
   ],
   "source": [
    "def get_isbn(d):\n",
    "    genre=[]\n",
    "    gen= BeautifulSoup(d, 'html.parser').find_all(\"span\", itemprop=\"isbn\")\n",
    "    genre=[ref.text.replace(\"\\n\",\"\") for ref in gen]\n",
    "    return genre\n",
    "get_isbn(bookdict[1])"
   ]
  },
  {
   "cell_type": "code",
   "execution_count": 16,
   "metadata": {},
   "outputs": [
    {
     "data": {
      "text/plain": [
       "['2601934']"
      ]
     },
     "execution_count": 16,
     "metadata": {},
     "output_type": "execute_result"
    }
   ],
   "source": [
    "def get_ratingCount(d):\n",
    "    genre=[]\n",
    "    gen= BeautifulSoup(d, 'html.parser').find_all(\"meta\", itemprop=\"ratingCount\")\n",
    "    genre=[ref['content']for ref in gen]\n",
    "    return genre\n",
    "get_ratingCount(bookdict[1])"
   ]
  },
  {
   "cell_type": "code",
   "execution_count": 37,
   "metadata": {},
   "outputs": [
    {
     "data": {
      "text/plain": [
       "'Harry Potter and the Order of the Phoenix'"
      ]
     },
     "execution_count": 37,
     "metadata": {},
     "output_type": "execute_result"
    }
   ],
   "source": [
    "def get_title(d):\n",
    "    gen= BeautifulSoup(d, 'html.parser').find(\"h1\", itemprop=\"name\",id=\"bookTitle\",class_=\"gr-h1 gr-h1--serif\").get_text()\n",
    "    return gen.strip().replace(\"\\n\",\"\")\n",
    "get_title(bookdict[1])"
   ]
  },
  {
   "cell_type": "code",
   "execution_count": 38,
   "metadata": {
    "id": "5TKaGEt6_38p"
   },
   "outputs": [
    {
     "name": "stdout",
     "output_type": "stream",
     "text": [
      "[{'title': 'The Hunger Games', 'year': '2008', 'genre': ['/genres/young-adult|', '/genres/fiction|', '/genres/science-fiction|', '/genres/dystopia|', '/genres/fantasy|', '/genres/science-fiction|', '/genres/romance|', '/genres/adventure|', '/genres/young-adult|', '/genres/teen|', '/genres/apocalyptic|', '/genres/post-apocalyptic|', '/genres/action|'], 'authors': ['https://www.goodreads.com/author/show/153394.Suzanne_Collins'], 'ratings': ['  4.32'], 'isbn': ['9780439023481'], 'ratingCount': ['6575625']}, {'title': 'Harry Potter and the Order of the Phoenix', 'year': '2003', 'genre': ['/genres/fantasy|', '/genres/young-adult|', '/genres/fiction|', '/genres/fantasy|', '/genres/magic|', '/genres/childrens|', '/genres/adventure|', '/genres/audiobook|', '/genres/childrens|', '/genres/middle-grade|', '/genres/classics|', '/genres/science-fiction-fantasy|'], 'authors': ['https://www.goodreads.com/author/show/1077326.J_K_Rowling', 'https://www.goodreads.com/author/show/2927.Mary_GrandPr_'], 'ratings': ['  4.50'], 'isbn': ['9780439358071'], 'ratingCount': ['2601934']}, {'title': 'To Kill a Mockingbird', 'year': '1960', 'genre': ['/genres/classics|', '/genres/fiction|', '/genres/historical|', '/genres/historical-fiction|', '/genres/academic|', '/genres/school|', '/genres/literature|', '/genres/young-adult|', '/genres/historical|', '/genres/novels|', '/genres/academic|', '/genres/read-for-school|', '/genres/young-adult|', '/genres/high-school|'], 'authors': ['https://www.goodreads.com/author/show/1825.Harper_Lee'], 'ratings': ['  4.28'], 'isbn': [], 'ratingCount': ['4663141']}]\n"
     ]
    }
   ],
   "source": [
    "listofdicts=[]\n",
    "book={}\n",
    "for i in range(10):\n",
    "    book={'title':get_title(bookdict[i]),'year': get_year(bookdict[i]),'genre':get_genre(bookdict[i]),'authors':get_author(bookdict[i]),'ratings':get_rating(bookdict[i]),'isbn':get_isbn(bookdict[i]),'ratingCount':get_ratingCount(bookdict[i])}\n",
    "    listofdicts.append(book)\n",
    "print(listofdicts[0:3])"
   ]
  },
  {
   "cell_type": "code",
   "execution_count": null,
   "metadata": {},
   "outputs": [],
   "source": []
  },
  {
   "cell_type": "code",
   "execution_count": 39,
   "metadata": {
    "id": "YKR5bCro_38y"
   },
   "outputs": [
    {
     "data": {
      "text/plain": [
       "{'title': 'The Hunger Games',\n",
       " 'year': '2008',\n",
       " 'genre': ['/genres/young-adult|',\n",
       "  '/genres/fiction|',\n",
       "  '/genres/science-fiction|',\n",
       "  '/genres/dystopia|',\n",
       "  '/genres/fantasy|',\n",
       "  '/genres/science-fiction|',\n",
       "  '/genres/romance|',\n",
       "  '/genres/adventure|',\n",
       "  '/genres/young-adult|',\n",
       "  '/genres/teen|',\n",
       "  '/genres/apocalyptic|',\n",
       "  '/genres/post-apocalyptic|',\n",
       "  '/genres/action|'],\n",
       " 'authors': ['https://www.goodreads.com/author/show/153394.Suzanne_Collins'],\n",
       " 'ratings': ['  4.32'],\n",
       " 'isbn': ['9780439023481'],\n",
       " 'ratingCount': ['6575625']}"
      ]
     },
     "execution_count": 39,
     "metadata": {},
     "output_type": "execute_result"
    }
   ],
   "source": [
    "listofdicts[0]"
   ]
  },
  {
   "cell_type": "markdown",
   "metadata": {
    "id": "ZjtwDg2LJpuv"
   },
   "source": [
    "### 4.4 Creating a DataFrame\n",
    "\n",
    "Convert the list of dictionaries created above to a Pandas DataFrame"
   ]
  },
  {
   "cell_type": "code",
   "execution_count": 40,
   "metadata": {
    "id": "i0bGQ8l-_380"
   },
   "outputs": [
    {
     "data": {
      "text/html": [
       "<div>\n",
       "<style scoped>\n",
       "    .dataframe tbody tr th:only-of-type {\n",
       "        vertical-align: middle;\n",
       "    }\n",
       "\n",
       "    .dataframe tbody tr th {\n",
       "        vertical-align: top;\n",
       "    }\n",
       "\n",
       "    .dataframe thead th {\n",
       "        text-align: right;\n",
       "    }\n",
       "</style>\n",
       "<table border=\"1\" class=\"dataframe\">\n",
       "  <thead>\n",
       "    <tr style=\"text-align: right;\">\n",
       "      <th></th>\n",
       "      <th>title</th>\n",
       "      <th>year</th>\n",
       "      <th>genre</th>\n",
       "      <th>authors</th>\n",
       "      <th>ratings</th>\n",
       "      <th>isbn</th>\n",
       "      <th>ratingCount</th>\n",
       "    </tr>\n",
       "  </thead>\n",
       "  <tbody>\n",
       "    <tr>\n",
       "      <th>0</th>\n",
       "      <td>The Hunger Games</td>\n",
       "      <td>2008</td>\n",
       "      <td>[/genres/young-adult|, /genres/fiction|, /genr...</td>\n",
       "      <td>[https://www.goodreads.com/author/show/153394....</td>\n",
       "      <td>[  4.32]</td>\n",
       "      <td>[9780439023481]</td>\n",
       "      <td>[6575625]</td>\n",
       "    </tr>\n",
       "    <tr>\n",
       "      <th>1</th>\n",
       "      <td>Harry Potter and the Order of the Phoenix</td>\n",
       "      <td>2003</td>\n",
       "      <td>[/genres/fantasy|, /genres/young-adult|, /genr...</td>\n",
       "      <td>[https://www.goodreads.com/author/show/1077326...</td>\n",
       "      <td>[  4.50]</td>\n",
       "      <td>[9780439358071]</td>\n",
       "      <td>[2601934]</td>\n",
       "    </tr>\n",
       "    <tr>\n",
       "      <th>2</th>\n",
       "      <td>To Kill a Mockingbird</td>\n",
       "      <td>1960</td>\n",
       "      <td>[/genres/classics|, /genres/fiction|, /genres/...</td>\n",
       "      <td>[https://www.goodreads.com/author/show/1825.Ha...</td>\n",
       "      <td>[  4.28]</td>\n",
       "      <td>[]</td>\n",
       "      <td>[4663141]</td>\n",
       "    </tr>\n",
       "    <tr>\n",
       "      <th>3</th>\n",
       "      <td>Pride and Prejudice</td>\n",
       "      <td>1813</td>\n",
       "      <td>[/genres/classics|, /genres/fiction|, /genres/...</td>\n",
       "      <td>[https://www.goodreads.com/author/show/1265.Ja...</td>\n",
       "      <td>[  4.27]</td>\n",
       "      <td>[]</td>\n",
       "      <td>[3110006]</td>\n",
       "    </tr>\n",
       "    <tr>\n",
       "      <th>4</th>\n",
       "      <td>Twilight</td>\n",
       "      <td>2005</td>\n",
       "      <td>[/genres/young-adult|, /genres/fantasy|, /genr...</td>\n",
       "      <td>[https://www.goodreads.com/author/show/941441....</td>\n",
       "      <td>[  3.61]</td>\n",
       "      <td>[9780316015844]</td>\n",
       "      <td>[5121485]</td>\n",
       "    </tr>\n",
       "  </tbody>\n",
       "</table>\n",
       "</div>"
      ],
      "text/plain": [
       "                                       title  year  \\\n",
       "0                           The Hunger Games  2008   \n",
       "1  Harry Potter and the Order of the Phoenix  2003   \n",
       "2                      To Kill a Mockingbird  1960   \n",
       "3                        Pride and Prejudice  1813   \n",
       "4                                   Twilight  2005   \n",
       "\n",
       "                                               genre  \\\n",
       "0  [/genres/young-adult|, /genres/fiction|, /genr...   \n",
       "1  [/genres/fantasy|, /genres/young-adult|, /genr...   \n",
       "2  [/genres/classics|, /genres/fiction|, /genres/...   \n",
       "3  [/genres/classics|, /genres/fiction|, /genres/...   \n",
       "4  [/genres/young-adult|, /genres/fantasy|, /genr...   \n",
       "\n",
       "                                             authors   ratings  \\\n",
       "0  [https://www.goodreads.com/author/show/153394....  [  4.32]   \n",
       "1  [https://www.goodreads.com/author/show/1077326...  [  4.50]   \n",
       "2  [https://www.goodreads.com/author/show/1825.Ha...  [  4.28]   \n",
       "3  [https://www.goodreads.com/author/show/1265.Ja...  [  4.27]   \n",
       "4  [https://www.goodreads.com/author/show/941441....  [  3.61]   \n",
       "\n",
       "              isbn ratingCount  \n",
       "0  [9780439023481]   [6575625]  \n",
       "1  [9780439358071]   [2601934]  \n",
       "2               []   [4663141]  \n",
       "3               []   [3110006]  \n",
       "4  [9780316015844]   [5121485]  "
      ]
     },
     "execution_count": 40,
     "metadata": {},
     "output_type": "execute_result"
    }
   ],
   "source": [
    "df = pd.DataFrame.from_records(listofdicts)\n",
    "df.head()"
   ]
  },
  {
   "cell_type": "markdown",
   "metadata": {
    "id": "oJPAaLqvQkuB"
   },
   "source": [
    "Convert this dataframe to a csv file and store it using `to_csv`."
   ]
  },
  {
   "cell_type": "code",
   "execution_count": 41,
   "metadata": {
    "id": "iSgShg17_383"
   },
   "outputs": [],
   "source": [
    "df.to_csv(\"Goodreads.csv\", index=False, header=True)"
   ]
  },
  {
   "cell_type": "code",
   "execution_count": null,
   "metadata": {},
   "outputs": [],
   "source": []
  }
 ],
 "metadata": {
  "colab": {
   "name": "distribute_Lab1.ipynb",
   "provenance": []
  },
  "kernelspec": {
   "display_name": "Python 3",
   "language": "python",
   "name": "python3"
  },
  "language_info": {
   "codemirror_mode": {
    "name": "ipython",
    "version": 3
   },
   "file_extension": ".py",
   "mimetype": "text/x-python",
   "name": "python",
   "nbconvert_exporter": "python",
   "pygments_lexer": "ipython3",
   "version": "3.8.3"
  }
 },
 "nbformat": 4,
 "nbformat_minor": 4
}
